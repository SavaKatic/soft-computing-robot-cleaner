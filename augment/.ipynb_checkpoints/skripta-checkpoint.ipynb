{
 "cells": [
  {
   "cell_type": "markdown",
   "metadata": {},
   "source": [
    "# Skripta za augmentaciju\n",
    "\n",
    "At the core of this script we use [imgaug library](https://github.com/aleju/imgaug).\n",
    "\n",
    "```\n",
    "conda create -n myenv python=3.5.6\n",
    "conda config --add channels conda-forge\n",
    "conda install imgaug\n",
    "conda activate myenv\n",
    "```"
   ]
  },
  {
   "cell_type": "code",
   "execution_count": 1,
   "metadata": {},
   "outputs": [],
   "source": [
    "# we will import all required libraries for this tutorial in advance\n",
    "\n",
    "import imgaug as ia\n",
    "ia.seed(1)\n",
    "# imgaug uses matplotlib backend for displaying images\n",
    "%matplotlib inline\n",
    "from imgaug.augmentables.bbs import BoundingBox, BoundingBoxesOnImage\n",
    "from imgaug import augmenters as iaa \n",
    "# imageio library will be used for image input/output\n",
    "import imageio\n",
    "import pandas as pd\n",
    "import numpy as np\n",
    "import re\n",
    "import os\n",
    "import glob\n",
    "# this library is needed to read XML files for converting it into CSV\n",
    "import xml.etree.ElementTree as ET\n",
    "import shutil"
   ]
  },
  {
   "cell_type": "markdown",
   "metadata": {},
   "source": [
    "## Step one: convert to CSV\n",
    "\n",
    "For this conversion [xml_to_csv.py](https://github.com/datitran/raccoon_dataset/blob/master/xml_to_csv.py) code developed by Dan Tran is used."
   ]
  },
  {
   "cell_type": "code",
   "execution_count": 2,
   "metadata": {},
   "outputs": [],
   "source": [
    "# Function that will extract column data for our CSV file\n",
    "def xml_to_csv(path):\n",
    "    xml_list = []\n",
    "    for xml_file in glob.glob(path + '/*.xml'):\n",
    "        tree = ET.parse(xml_file)\n",
    "        root = tree.getroot()\n",
    "        for member in root.findall('object'):\n",
    "            value = (root.find('filename').text,\n",
    "                     int(root.find('size')[0].text),\n",
    "                     int(root.find('size')[1].text),\n",
    "                     member[0].text,\n",
    "                     int(member[4][0].text),\n",
    "                     int(member[4][1].text),\n",
    "                     int(member[4][2].text),\n",
    "                     int(member[4][3].text)\n",
    "                     )\n",
    "            xml_list.append(value)\n",
    "    column_name = ['filename', 'width', 'height', 'class', 'xmin', 'ymin', 'xmax', 'ymax']\n",
    "    xml_df = pd.DataFrame(xml_list, columns=column_name)\n",
    "    return xml_df"
   ]
  },
  {
   "cell_type": "code",
   "execution_count": 3,
   "metadata": {},
   "outputs": [
    {
     "name": "stdout",
     "output_type": "stream",
     "text": [
      "Successfully converted xml to csv.\n"
     ]
    }
   ],
   "source": [
    "# apply xml_to_csv() function to convert all XML files in images/ folder into labels.csv\n",
    "labels_df = xml_to_csv('images/')\n",
    "labels_df.to_csv(('labels.csv'), index=None)\n",
    "print('Successfully converted xml to csv.')"
   ]
  },
  {
   "cell_type": "markdown",
   "metadata": {},
   "source": [
    "## Step two: augmentors\n",
    "\n",
    "Next, I define augmentors that will be used. There are 4 of them, each is used on every image ones. This way, we get 4x more images with various augmentation techniques used. "
   ]
  },
  {
   "cell_type": "code",
   "execution_count": 5,
   "metadata": {},
   "outputs": [
    {
     "name": "stderr",
     "output_type": "stream",
     "text": [
      "c:\\users\\savak\\appdata\\local\\programs\\python\\python35\\lib\\site-packages\\imgaug\\imgaug.py:182: DeprecationWarning: Function `ContrastNormalization()` is deprecated. Use `imgaug.contrast.LinearContrast` instead.\n",
      "  warn_deprecated(msg, stacklevel=3)\n"
     ]
    }
   ],
   "source": [
    "aug1 = iaa.SomeOf(4, [\n",
    "    iaa.Fliplr(0.5),\n",
    "    iaa.Crop(percent=(0, 0.1)),\n",
    "    iaa.Sometimes(0.5,\n",
    "        iaa.GaussianBlur(sigma=(0, 0.5))\n",
    "    ),\n",
    "    iaa.ContrastNormalization((0.75, 1.5)),\n",
    "    iaa.AdditiveGaussianNoise(loc=0, scale=(0.0, 0.05*255), per_channel=0.5),\n",
    "    iaa.Multiply((0.8, 1.2), per_channel=0.2),\n",
    "    iaa.Affine(\n",
    "        scale={\"x\": (0.8, 1.2), \"y\": (0.8, 1.2)},\n",
    "        translate_percent={\"x\": (-0.2, 0.2), \"y\": (-0.2, 0.2)},\n",
    "        rotate=(-25, 25),\n",
    "        shear=(-8, 8)\n",
    "    )\n",
    "], random_order=True)\n",
    "\n",
    "\n",
    "aug2 = iaa.SomeOf(2, [    \n",
    "    iaa.Affine(scale=(0.5, 1.5)),\n",
    "    iaa.Affine(rotate=(-60, 60)),\n",
    "    iaa.Affine(translate_percent={\"x\": (-0.3, 0.3), \"y\": (-0.3, 0.3)}),\n",
    "    iaa.Fliplr(1),\n",
    "    iaa.Multiply((0.5, 1.5)),\n",
    "    iaa.GaussianBlur(sigma=(1.0, 3.0)),\n",
    "    iaa.AdditiveGaussianNoise(scale=(0.03*255, 0.05*255))\n",
    "])\n",
    "\n",
    "aug3 = iaa.SomeOf(3, [    \n",
    "    iaa.Affine(\n",
    "        scale={\"x\": (0.8, 1.2), \"y\": (0.8, 1.2)},\n",
    "        translate_percent={\"x\": (-0.2, 0.2), \"y\": (-0.2, 0.2)},\n",
    "        rotate=(-25, 25),\n",
    "        shear=(-8, 8)\n",
    "    ),\n",
    "    iaa.Fliplr(1),\n",
    "    iaa.ContrastNormalization((0.75, 1.25)),\n",
    "    iaa.GaussianBlur(sigma=(1.0, 3.0)),\n",
    "    iaa.AdditiveGaussianNoise(scale=(0.03*255, 0.05*255)),\n",
    "    iaa.Crop(percent=(0, 0.1))\n",
    "])\n",
    "\n",
    "aug4 = iaa.SomeOf(4, [    \n",
    "    iaa.Affine(\n",
    "        scale={\"x\": (0.8, 1.2), \"y\": (0.8, 1.2)},\n",
    "        translate_percent={\"x\": (-0.2, 0.2), \"y\": (-0.2, 0.2)},\n",
    "        rotate=(-25, 25),\n",
    "        shear=(-8, 8)\n",
    "    ),\n",
    "    iaa.Fliplr(1),\n",
    "    iaa.Multiply((0.5, 1.5)),\n",
    "    iaa.GaussianBlur(sigma=(1.0, 3.0)),\n",
    "    iaa.AdditiveGaussianNoise(scale=(0.03*255, 0.05*255))\n",
    "], random_order=True)\n",
    "\n",
    "\n",
    "\n",
    "\n",
    "augs = [aug1, aug2, aug3, aug4]"
   ]
  },
  {
   "cell_type": "markdown",
   "metadata": {},
   "source": [
    "## Step three: augmentation\n",
    "\n",
    "The image_aug() function does the actual augmentation"
   ]
  },
  {
   "cell_type": "code",
   "execution_count": 6,
   "metadata": {},
   "outputs": [],
   "source": [
    "def image_aug(df, images_path, aug_images_path, image_prefix, augmentor):\n",
    "    aug_bbs_xy = pd.DataFrame(columns=\n",
    "                              ['filename','width','height','class', 'xmin', 'ymin', 'xmax', 'ymax']\n",
    "                             ) #data frame\n",
    "    # group csv data by filename\n",
    "    grouped = df.groupby('filename')\n",
    "    \n",
    "    for filename in df['filename'].unique():\n",
    "    #   make separate df for each group (by filename)\n",
    "        group_df = grouped.get_group(filename)\n",
    "        group_df = group_df.reset_index()\n",
    "        group_df = group_df.drop(['index'], axis=1)   \n",
    "    #   read the image\n",
    "        image = imageio.imread(images_path+filename)\n",
    "        \n",
    "    #   get bounding boxes coordinates and write into array        \n",
    "        bb_array = group_df.drop(['filename', 'width', 'height', 'class'], axis=1).values\n",
    "        \n",
    "    #   pass the array of bounding boxes coordinates to the imgaug library\n",
    "        bbs = BoundingBoxesOnImage.from_xyxy_array(bb_array, shape=image.shape)\n",
    "    #   apply augmentation on image and on the bounding boxes\n",
    "    \n",
    "        image_aug, bbs_aug = augmentor(image=image, bounding_boxes=bbs)\n",
    "    #   disregard bounding boxes which have fallen out of image pane    \n",
    "        bbs_aug = bbs_aug.remove_out_of_image()\n",
    "    #   clip bounding boxes which are partially outside of image pane\n",
    "        bbs_aug = bbs_aug.clip_out_of_image()\n",
    "        \n",
    "    #   don't perform any actions with the image if there are no bounding boxes left in it    \n",
    "        if re.findall('Image...', str(bbs_aug)) == ['Image([]']:\n",
    "            pass\n",
    "        \n",
    "        else:\n",
    "        #   write augmented image to a file\n",
    "            imageio.imwrite(aug_images_path+image_prefix+filename, image_aug)  \n",
    "        #   create a data frame with augmented values of image width and height\n",
    "            info_df = group_df.drop(['xmin', 'ymin', 'xmax', 'ymax'], axis=1)    \n",
    "            for index, _ in info_df.iterrows():\n",
    "                info_df.at[index, 'width'] = image_aug.shape[1]\n",
    "                info_df.at[index, 'height'] = image_aug.shape[0]\n",
    "        #   rename filenames by adding the predifined prefix\n",
    "            info_df['filename'] = info_df['filename'].apply(lambda x: image_prefix+x)\n",
    "        #   create a data frame with augmented bounding boxes coordinates using the function we created earlier\n",
    "            bbs_df = bbs_obj_to_df(bbs_aug)\n",
    "        #   concat all new augmented info into new data frame\n",
    "            aug_df = pd.concat([info_df, bbs_df], axis=1)\n",
    "        #   append rows to aug_bbs_xy data frame\n",
    "            aug_bbs_xy = pd.concat([aug_bbs_xy, aug_df])            \n",
    "    \n",
    "    # return dataframe with updated images and bounding boxes annotations \n",
    "    aug_bbs_xy = aug_bbs_xy.reset_index()\n",
    "    aug_bbs_xy = aug_bbs_xy.drop(['index'], axis=1)\n",
    "    return aug_bbs_xy"
   ]
  },
  {
   "cell_type": "code",
   "execution_count": 7,
   "metadata": {},
   "outputs": [],
   "source": [
    "# Apply each augmentor we made to all images\n",
    "augmented_images_df_array = []\n",
    "for i in range(0, len(augs)):\n",
    "    augmented_images_df = image_aug(labels_df, 'images/', 'aug_images_new/', 'aug' + str(i) + '_', augs[i])\n",
    "    augmented_images_df_array.append(augmented_images_df)\n",
    "    \n"
   ]
  },
  {
   "cell_type": "markdown",
   "metadata": {},
   "source": [
    "## Step four: saving\n",
    "\n",
    "Now we save augmented images, their sizes and bounding boxes to appropriate CSV files.\n"
   ]
  },
  {
   "cell_type": "code",
   "execution_count": 9,
   "metadata": {},
   "outputs": [
    {
     "name": "stdout",
     "output_type": "stream",
     "text": [
      "Broj originalnih slika:  739\n",
      "Broj slika 0. augmentera: 707\n",
      "Broj slika 1. augmentera: 702\n",
      "Broj slika 2. augmentera: 718\n",
      "Broj slika 3. augmentera: 717\n"
     ]
    }
   ],
   "source": [
    "grouped = labels_df.groupby('filename')\n",
    "print('Broj originalnih slika: ', grouped.size().size)\n",
    "\n",
    "train_labels_df = labels_df\n",
    "for i in range(0, len(augs) - 1):\n",
    "    train_labels_df = pd.concat([train_labels_df, augmented_images_df_array[i]])\n",
    "    print('Broj slika ' + str(i) + '. augmentera: ' + str(augmented_images_df_array[i].groupby('filename').size().size))\n",
    "    \n",
    "train_labels_df.to_csv('train_labels.csv', index=False)\n",
    "\n",
    "augmented_images_df_array[len(augs) - 1].to_csv('test_labels.csv', index=False)\n",
    "\n",
    "print('Broj slika ' + str(len(augs) - 1) + '. augmentera: ' + str(augmented_images_df_array[len(augs) - 1].groupby('filename').size().size))\n",
    "\n"
   ]
  },
  {
   "cell_type": "code",
   "execution_count": 10,
   "metadata": {},
   "outputs": [],
   "source": [
    "for filename in os.listdir('aug_images'):\n",
    "    if (('aug' + str(len(augs) - 1)) in filename):\n",
    "        shutil.copy('aug_images' + filename, 'test/' + filename)\n",
    "    else:\n",
    "        try:\n",
    "            shutil.copy('aug_images' + filename, 'train/' + filename)\n",
    "        except:\n",
    "            print(\"a\")\n"
   ]
  },
  {
   "cell_type": "code",
   "execution_count": null,
   "metadata": {},
   "outputs": [],
   "source": []
  }
 ],
 "metadata": {
  "kernelspec": {
   "display_name": "Python 3",
   "language": "python",
   "name": "python3"
  },
  "language_info": {
   "codemirror_mode": {
    "name": "ipython",
    "version": 3
   },
   "file_extension": ".py",
   "mimetype": "text/x-python",
   "name": "python",
   "nbconvert_exporter": "python",
   "pygments_lexer": "ipython3",
   "version": "3.5.3"
  }
 },
 "nbformat": 4,
 "nbformat_minor": 2
}
